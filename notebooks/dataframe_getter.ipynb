{
 "cells": [
  {
   "cell_type": "code",
   "execution_count": null,
   "metadata": {},
   "outputs": [],
   "source": [
    "from getpass import getuser\n",
    "\n",
    "from data.processing import create_training_dataframe, fetch_riders\n",
    "\n",
    "username = getuser()\n",
    "DB_PATH_1 = (\n",
    "    f\"/Users/{username}/iCloud/Research/Data_Science/Projects/data/training_merged.db\"\n",
    ")\n",
    "DB_PATH_2 = (\n",
    "    f\"/Users/{username}/iCloud/Research/Data_Science/Projects/data/grand_tours.db\"\n",
    ")"
   ]
  },
  {
   "cell_type": "code",
   "execution_count": null,
   "metadata": {},
   "outputs": [],
   "source": [
    "rider_list = fetch_riders(DB_PATH_2, \"tdf\", 2024)\n",
    "create_training_dataframe(rider_list, \"tdf\", 2024, DB_PATH_2, DB_PATH_1, training=True)"
   ]
  }
 ],
 "metadata": {
  "kernelspec": {
   "display_name": "grand_tours",
   "language": "python",
   "name": "python3"
  },
  "language_info": {
   "codemirror_mode": {
    "name": "ipython",
    "version": 3
   },
   "file_extension": ".py",
   "mimetype": "text/x-python",
   "name": "python",
   "nbconvert_exporter": "python",
   "pygments_lexer": "ipython3",
   "version": "3.12.9"
  }
 },
 "nbformat": 4,
 "nbformat_minor": 2
}
