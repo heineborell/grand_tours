{
 "cells": [
  {
   "cell_type": "code",
   "execution_count": null,
   "metadata": {},
   "outputs": [],
   "source": [
    "import yaml\n",
    "from rich import print\n",
    "from sklearn.model_selection import KFold, train_test_split\n",
    "\n",
    "from data.data_loader import load_data\n",
    "from training.kfold import kfold_split_train\n",
    "import os\n",
    "\n",
    "os.chdir(\"..\")  # Move one level up to the project root"
   ]
  },
  {
   "cell_type": "code",
   "execution_count": null,
   "metadata": {},
   "outputs": [],
   "source": [
    "# Load config\n",
    "with open(\"config/config.yaml\") as f:\n",
    "    config = yaml.safe_load(f)"
   ]
  },
  {
   "cell_type": "code",
   "execution_count": null,
   "metadata": {},
   "outputs": [],
   "source": [
    "# Load data\n",
    "data = load_data(\"tdf\", 2024, training=True)\n",
    "print(data.columns)"
   ]
  },
  {
   "cell_type": "code",
   "execution_count": null,
   "metadata": {},
   "outputs": [],
   "source": [
    "# Splitting train and test\n",
    "X_train, X_test = train_test_split(data, test_size=0.2, random_state=42)\n",
    "features = [\"distance\", \"elevation\", \"time_delta\"]\n",
    "target = \"time\"\n",
    "models = [\"linear_regression\", \"random_forest_regressor\", \"xgboost\", \"linearsvr\"]\n",
    "kfold = KFold(n_splits=5, shuffle=True, random_state=31)\n",
    "kfold_split_train(X_train, models, config, features, target, kfold)"
   ]
  }
 ],
 "metadata": {
  "kernelspec": {
   "display_name": "grand_tours",
   "language": "python",
   "name": "python3"
  },
  "language_info": {
   "codemirror_mode": {
    "name": "ipython",
    "version": 3
   },
   "file_extension": ".py",
   "mimetype": "text/x-python",
   "name": "python",
   "nbconvert_exporter": "python",
   "pygments_lexer": "ipython3",
   "version": "3.13.2"
  }
 },
 "nbformat": 4,
 "nbformat_minor": 2
}
