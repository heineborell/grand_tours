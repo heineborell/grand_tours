{
 "cells": [
  {
   "cell_type": "code",
   "execution_count": null,
   "metadata": {},
   "outputs": [],
   "source": [
    "from pathlib import Path\n",
    "import os\n",
    "\n",
    "from rich import print as print\n",
    "from sklearn.model_selection import KFold, train_test_split\n",
    "\n",
    "from data.data_loader import config_loader, get_data_info, load_data\n",
    "from data.processing import fetch_riders\n",
    "from training.kfold import kfold_split_train\n",
    "\n",
    "os.chdir(\"..\")  # Move one level up to the project root"
   ]
  },
  {
   "cell_type": "code",
   "execution_count": null,
   "metadata": {},
   "outputs": [],
   "source": [
    "if __name__ == \"__main__\":\n",
    "    db_path = Path(\"config/db_path.json\")\n",
    "    tour = \"tdf\"\n",
    "    year = 2014\n",
    "\n",
    "    config_path = Path(config_loader(tour, year, \"config/config.json\"))\n",
    "\n",
    "    # # Load data\n",
    "    data = load_data(tour, year, db_path, training=False, segment_data=True)\n",
    "    print(data[\"segments\"][0])\n",
    "    [print(dist.grade) for dist in data[\"segments\"][0]]\n",
    "\n",
    "    print(\n",
    "        f\"The total number of riders in the race dataset is {len(fetch_riders(db_path, tour, year))}.\"\n",
    "    )"
   ]
  }
 ],
 "metadata": {
  "kernelspec": {
   "display_name": "grand_tours",
   "language": "python",
   "name": "python3"
  },
  "language_info": {
   "codemirror_mode": {
    "name": "ipython",
    "version": 3
   },
   "file_extension": ".py",
   "mimetype": "text/x-python",
   "name": "python",
   "nbconvert_exporter": "python",
   "pygments_lexer": "ipython3",
   "version": "3.12.9"
  }
 },
 "nbformat": 4,
 "nbformat_minor": 2
}
