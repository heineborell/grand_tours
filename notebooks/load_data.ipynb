{
 "cells": [
  {
   "cell_type": "code",
   "execution_count": null,
   "metadata": {},
   "outputs": [],
   "source": [
    "from pathlib import Path\n",
    "\n",
    "from rich import print as print\n",
    "\n",
    "from data.data_loader import config_loader, load_data\n",
    "from data.processing import fetch_riders\n",
    "import matplotlib.pyplot as plt\n",
    "import pandas as pd"
   ]
  },
  {
   "cell_type": "code",
   "execution_count": null,
   "metadata": {},
   "outputs": [],
   "source": [
    "# Get the current working directory\n",
    "cwd = Path.cwd()\n",
    "\n",
    "# Navigate up two levels to get the project root\n",
    "PROJECT_ROOT = cwd.parent\n",
    "CONFIG_PATH = PROJECT_ROOT / \"config/config.json\"\n",
    "DB_PATH = PROJECT_ROOT / \"config/db_path.json\"\n",
    "print(CONFIG_PATH)"
   ]
  },
  {
   "cell_type": "code",
   "execution_count": null,
   "metadata": {},
   "outputs": [],
   "source": [
    "# Enter tour, year of your choice\n",
    "tour = \"tdf\"\n",
    "year = 2023\n",
    "\n",
    "# Gets the configuration json file needed for training models, hyperparameters. Check /config/config.json file.\n",
    "config_path = Path(config_loader(tour, year, config_path=CONFIG_PATH))\n",
    "\n",
    "# Load data\n",
    "data = load_data(tour, year, db_path=DB_PATH, training=True, segment_data=False)\n",
    "print(data)\n",
    "\n",
    "print(\n",
    "    f\"The total number of riders in the race dataset is {len(fetch_riders(DB_PATH, tour, year))}.\"\n",
    ")"
   ]
  },
  {
   "cell_type": "code",
   "execution_count": null,
   "metadata": {},
   "outputs": [],
   "source": [
    "df = pd.read_csv(PROJECT_ROOT / \"results/segment_test_results_tdf_2024.csv\")"
   ]
  },
  {
   "cell_type": "code",
   "execution_count": null,
   "metadata": {},
   "outputs": [],
   "source": [
    "plt.scatter(df[\"x_tr_len\"], df[\"test_rmse\"])"
   ]
  }
 ],
 "metadata": {
  "kernelspec": {
   "display_name": "grand_tours",
   "language": "python",
   "name": "python3"
  },
  "language_info": {
   "codemirror_mode": {
    "name": "ipython",
    "version": 3
   },
   "file_extension": ".py",
   "mimetype": "text/x-python",
   "name": "python",
   "nbconvert_exporter": "python",
   "pygments_lexer": "ipython3",
   "version": "3.13.3"
  }
 },
 "nbformat": 4,
 "nbformat_minor": 2
}
