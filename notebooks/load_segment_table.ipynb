{
 "cells": [
  {
   "cell_type": "code",
   "execution_count": null,
   "id": "0",
   "metadata": {},
   "outputs": [],
   "source": [
    "import subprocess\n",
    "from pathlib import Path\n",
    "\n",
    "from rich import print as print\n",
    "\n",
    "from data.segment_analyse import get_segment_table, merged_tables"
   ]
  },
  {
   "cell_type": "code",
   "execution_count": null,
   "id": "1",
   "metadata": {},
   "outputs": [],
   "source": [
    "# Get the current working directory\n",
    "cwd = Path.cwd()\n",
    "\n",
    "# Navigate up two levels to get the project root\n",
    "PROJECT_ROOT = cwd.parent\n",
    "CONFIG_PATH = PROJECT_ROOT / \"config/base_config.json\"\n",
    "DB_PATH = PROJECT_ROOT / \"config/db_path.json\"\n",
    "print(CONFIG_PATH)"
   ]
  },
  {
   "cell_type": "code",
   "execution_count": null,
   "id": "2",
   "metadata": {},
   "outputs": [],
   "source": [
    "# Enter tour, year of your choice\n",
    "tour = \"tdf\"\n",
    "years = [2024]\n",
    "\n",
    "segment_df_full = get_segment_table(tour, years, DB_PATH)\n",
    "merged_df = merged_tables(tour, years, segment_df_full, PROJECT_ROOT, DB_PATH)\n"
   ]
  }
 ],
 "metadata": {
  "kernelspec": {
   "display_name": "grand_tours",
   "language": "python",
   "name": "python3"
  },
  "language_info": {
   "codemirror_mode": {
    "name": "ipython",
    "version": 3
   },
   "file_extension": ".py",
   "mimetype": "text/x-python",
   "name": "python",
   "nbconvert_exporter": "python",
   "pygments_lexer": "ipython3",
   "version": "3.12.10"
  }
 },
 "nbformat": 4,
 "nbformat_minor": 5
}
