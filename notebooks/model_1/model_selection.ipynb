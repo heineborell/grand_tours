{
 "cells": [
  {
   "cell_type": "code",
   "execution_count": 25,
   "id": "e482318c",
   "metadata": {},
   "outputs": [],
   "source": [
    "import numpy as np\n",
    "import pandas as pd\n",
    "import matplotlib.pyplot as plt\n",
    "from xgboost import XGBRegressor\n",
    "from sklearn.ensemble import RandomForestRegressor, AdaBoostRegressor\n",
    "from sklearn.svm import SVR\n",
    "from sklearn.linear_model import LinearRegression\n",
    "from sklearn.preprocessing import StandardScaler\n",
    "from sklearn.model_selection import train_test_split, cross_val_score, cross_validate\n",
    "from sklearn.pipeline import Pipeline\n",
    "from sklearn.metrics import root_mean_squared_error\n",
    "#from sklearn.impute import KNNImputer\n",
    "\n",
    "from pathlib import Path"
   ]
  },
  {
   "cell_type": "code",
   "execution_count": 2,
   "id": "ebc2d9a7",
   "metadata": {},
   "outputs": [],
   "source": [
    "pd.set_option('display.max_columns', None) #forces all columns to be displayed"
   ]
  },
  {
   "cell_type": "code",
   "execution_count": null,
   "id": "57f6206a",
   "metadata": {},
   "outputs": [],
   "source": [
    "cwd = Path.cwd()\n",
    "\n",
    "filepath = cwd / 'data/model-training-set.csv'\n",
    "data_train = pd.read_csv(filepath, index_col=None)"
   ]
  },
  {
   "cell_type": "code",
   "execution_count": null,
   "id": "b4b48042",
   "metadata": {},
   "outputs": [
    {
     "data": {
      "text/html": [
       "<div>\n",
       "<style scoped>\n",
       "    .dataframe tbody tr th:only-of-type {\n",
       "        vertical-align: middle;\n",
       "    }\n",
       "\n",
       "    .dataframe tbody tr th {\n",
       "        vertical-align: top;\n",
       "    }\n",
       "\n",
       "    .dataframe thead th {\n",
       "        text-align: right;\n",
       "    }\n",
       "</style>\n",
       "<table border=\"1\" class=\"dataframe\">\n",
       "  <thead>\n",
       "    <tr style=\"text-align: right;\">\n",
       "      <th></th>\n",
       "      <th>strava_id</th>\n",
       "      <th>activity_id</th>\n",
       "      <th>distance</th>\n",
       "      <th>elevation</th>\n",
       "      <th>avg_power</th>\n",
       "      <th>time</th>\n",
       "      <th>tour_year</th>\n",
       "      <th>stage</th>\n",
       "      <th>ride_day</th>\n",
       "      <th>race_start_day</th>\n",
       "      <th>segments</th>\n",
       "      <th>year</th>\n",
       "      <th>profile_score</th>\n",
       "      <th>startlist_quality</th>\n",
       "      <th>time_delta</th>\n",
       "      <th>elevation_ratio</th>\n",
       "      <th>time_trial</th>\n",
       "      <th>no_sessions</th>\n",
       "      <th>mean_train_dist</th>\n",
       "      <th>mean_train_avg_speed</th>\n",
       "      <th>mean_train_elevation</th>\n",
       "      <th>mean_train_EVD</th>\n",
       "    </tr>\n",
       "  </thead>\n",
       "  <tbody>\n",
       "    <tr>\n",
       "      <th>0</th>\n",
       "      <td>1936233</td>\n",
       "      <td>7206463539</td>\n",
       "      <td>158.97</td>\n",
       "      <td>1085.0</td>\n",
       "      <td>299.0</td>\n",
       "      <td>12722</td>\n",
       "      <td>giro-2022</td>\n",
       "      <td>18</td>\n",
       "      <td>2022-05-26</td>\n",
       "      <td>2022-05-06</td>\n",
       "      <td>[]</td>\n",
       "      <td>2022</td>\n",
       "      <td>34.0</td>\n",
       "      <td>817</td>\n",
       "      <td>20</td>\n",
       "      <td>0.872208</td>\n",
       "      <td>0</td>\n",
       "      <td>56.0</td>\n",
       "      <td>106.725179</td>\n",
       "      <td>33.570713</td>\n",
       "      <td>1575.714286</td>\n",
       "      <td>1.279520</td>\n",
       "    </tr>\n",
       "    <tr>\n",
       "      <th>1</th>\n",
       "      <td>11460770</td>\n",
       "      <td>5606487927</td>\n",
       "      <td>225.41</td>\n",
       "      <td>1986.0</td>\n",
       "      <td>NaN</td>\n",
       "      <td>19278</td>\n",
       "      <td>tdf-2021</td>\n",
       "      <td>13</td>\n",
       "      <td>2021-07-09</td>\n",
       "      <td>2021-06-26</td>\n",
       "      <td>[]</td>\n",
       "      <td>2021</td>\n",
       "      <td>29.0</td>\n",
       "      <td>1646</td>\n",
       "      <td>13</td>\n",
       "      <td>0.898070</td>\n",
       "      <td>0</td>\n",
       "      <td>75.0</td>\n",
       "      <td>108.517867</td>\n",
       "      <td>30.842010</td>\n",
       "      <td>1776.920000</td>\n",
       "      <td>1.595306</td>\n",
       "    </tr>\n",
       "    <tr>\n",
       "      <th>2</th>\n",
       "      <td>3046537</td>\n",
       "      <td>5298798261</td>\n",
       "      <td>186.72</td>\n",
       "      <td>1649.0</td>\n",
       "      <td>230.0</td>\n",
       "      <td>17481</td>\n",
       "      <td>giro-2021</td>\n",
       "      <td>7</td>\n",
       "      <td>2021-05-14</td>\n",
       "      <td>2021-05-08</td>\n",
       "      <td>[]</td>\n",
       "      <td>2021</td>\n",
       "      <td>37.0</td>\n",
       "      <td>885</td>\n",
       "      <td>6</td>\n",
       "      <td>0.898285</td>\n",
       "      <td>0</td>\n",
       "      <td>55.0</td>\n",
       "      <td>111.636909</td>\n",
       "      <td>33.764695</td>\n",
       "      <td>1616.290909</td>\n",
       "      <td>1.284696</td>\n",
       "    </tr>\n",
       "    <tr>\n",
       "      <th>3</th>\n",
       "      <td>1678917</td>\n",
       "      <td>5569074608</td>\n",
       "      <td>153.26</td>\n",
       "      <td>3514.0</td>\n",
       "      <td>NaN</td>\n",
       "      <td>16526</td>\n",
       "      <td>tdf-2021</td>\n",
       "      <td>8</td>\n",
       "      <td>2021-07-03</td>\n",
       "      <td>2021-06-26</td>\n",
       "      <td>[]</td>\n",
       "      <td>2021</td>\n",
       "      <td>310.0</td>\n",
       "      <td>1646</td>\n",
       "      <td>7</td>\n",
       "      <td>0.958209</td>\n",
       "      <td>0</td>\n",
       "      <td>75.0</td>\n",
       "      <td>97.408800</td>\n",
       "      <td>32.415516</td>\n",
       "      <td>1467.346667</td>\n",
       "      <td>1.339883</td>\n",
       "    </tr>\n",
       "    <tr>\n",
       "      <th>4</th>\n",
       "      <td>1216273</td>\n",
       "      <td>4010546467</td>\n",
       "      <td>173.43</td>\n",
       "      <td>1974.0</td>\n",
       "      <td>NaN</td>\n",
       "      <td>13609</td>\n",
       "      <td>tdf-2020</td>\n",
       "      <td>7</td>\n",
       "      <td>2020-09-04</td>\n",
       "      <td>2020-08-29</td>\n",
       "      <td>[]</td>\n",
       "      <td>2020</td>\n",
       "      <td>47.0</td>\n",
       "      <td>1662</td>\n",
       "      <td>6</td>\n",
       "      <td>0.919238</td>\n",
       "      <td>0</td>\n",
       "      <td>76.0</td>\n",
       "      <td>101.993026</td>\n",
       "      <td>25.524804</td>\n",
       "      <td>2404.618421</td>\n",
       "      <td>2.448843</td>\n",
       "    </tr>\n",
       "    <tr>\n",
       "      <th>...</th>\n",
       "      <td>...</td>\n",
       "      <td>...</td>\n",
       "      <td>...</td>\n",
       "      <td>...</td>\n",
       "      <td>...</td>\n",
       "      <td>...</td>\n",
       "      <td>...</td>\n",
       "      <td>...</td>\n",
       "      <td>...</td>\n",
       "      <td>...</td>\n",
       "      <td>...</td>\n",
       "      <td>...</td>\n",
       "      <td>...</td>\n",
       "      <td>...</td>\n",
       "      <td>...</td>\n",
       "      <td>...</td>\n",
       "      <td>...</td>\n",
       "      <td>...</td>\n",
       "      <td>...</td>\n",
       "      <td>...</td>\n",
       "      <td>...</td>\n",
       "      <td>...</td>\n",
       "    </tr>\n",
       "    <tr>\n",
       "      <th>7679</th>\n",
       "      <td>1678917</td>\n",
       "      <td>7157863848</td>\n",
       "      <td>205.35</td>\n",
       "      <td>1849.0</td>\n",
       "      <td>NaN</td>\n",
       "      <td>17733</td>\n",
       "      <td>giro-2022</td>\n",
       "      <td>10</td>\n",
       "      <td>2022-05-17</td>\n",
       "      <td>2022-05-06</td>\n",
       "      <td>[]</td>\n",
       "      <td>2022</td>\n",
       "      <td>86.0</td>\n",
       "      <td>817</td>\n",
       "      <td>11</td>\n",
       "      <td>0.900041</td>\n",
       "      <td>0</td>\n",
       "      <td>23.0</td>\n",
       "      <td>123.840000</td>\n",
       "      <td>34.131966</td>\n",
       "      <td>1466.260870</td>\n",
       "      <td>1.068895</td>\n",
       "    </tr>\n",
       "    <tr>\n",
       "      <th>7680</th>\n",
       "      <td>2885876</td>\n",
       "      <td>7174112124</td>\n",
       "      <td>155.74</td>\n",
       "      <td>1705.0</td>\n",
       "      <td>NaN</td>\n",
       "      <td>12849</td>\n",
       "      <td>giro-2022</td>\n",
       "      <td>13</td>\n",
       "      <td>2022-05-20</td>\n",
       "      <td>2022-05-06</td>\n",
       "      <td>[]</td>\n",
       "      <td>2022</td>\n",
       "      <td>51.0</td>\n",
       "      <td>817</td>\n",
       "      <td>14</td>\n",
       "      <td>0.916302</td>\n",
       "      <td>0</td>\n",
       "      <td>23.0</td>\n",
       "      <td>99.950435</td>\n",
       "      <td>29.038191</td>\n",
       "      <td>2103.173913</td>\n",
       "      <td>1.961782</td>\n",
       "    </tr>\n",
       "    <tr>\n",
       "      <th>7681</th>\n",
       "      <td>8843498</td>\n",
       "      <td>7174271986</td>\n",
       "      <td>154.46</td>\n",
       "      <td>1749.0</td>\n",
       "      <td>317.0</td>\n",
       "      <td>13221</td>\n",
       "      <td>giro-2022</td>\n",
       "      <td>13</td>\n",
       "      <td>2022-05-20</td>\n",
       "      <td>2022-05-06</td>\n",
       "      <td>[]</td>\n",
       "      <td>2022</td>\n",
       "      <td>51.0</td>\n",
       "      <td>817</td>\n",
       "      <td>14</td>\n",
       "      <td>0.918853</td>\n",
       "      <td>0</td>\n",
       "      <td>41.0</td>\n",
       "      <td>96.446098</td>\n",
       "      <td>32.279606</td>\n",
       "      <td>1017.414634</td>\n",
       "      <td>1.002129</td>\n",
       "    </tr>\n",
       "    <tr>\n",
       "      <th>7682</th>\n",
       "      <td>1630132</td>\n",
       "      <td>3992236659</td>\n",
       "      <td>197.35</td>\n",
       "      <td>2584.0</td>\n",
       "      <td>NaN</td>\n",
       "      <td>18918</td>\n",
       "      <td>tdf-2020</td>\n",
       "      <td>3</td>\n",
       "      <td>2020-08-31</td>\n",
       "      <td>2020-08-29</td>\n",
       "      <td>[]</td>\n",
       "      <td>2020</td>\n",
       "      <td>81.0</td>\n",
       "      <td>1662</td>\n",
       "      <td>2</td>\n",
       "      <td>0.929045</td>\n",
       "      <td>0</td>\n",
       "      <td>65.0</td>\n",
       "      <td>120.618923</td>\n",
       "      <td>30.765480</td>\n",
       "      <td>2483.846154</td>\n",
       "      <td>2.095948</td>\n",
       "    </tr>\n",
       "    <tr>\n",
       "      <th>7683</th>\n",
       "      <td>13125039</td>\n",
       "      <td>9070723149</td>\n",
       "      <td>34.81</td>\n",
       "      <td>161.0</td>\n",
       "      <td>NaN</td>\n",
       "      <td>2717</td>\n",
       "      <td>giro-2023</td>\n",
       "      <td>9</td>\n",
       "      <td>2023-05-14</td>\n",
       "      <td>2023-05-08</td>\n",
       "      <td>[]</td>\n",
       "      <td>2023</td>\n",
       "      <td>0.0</td>\n",
       "      <td>835</td>\n",
       "      <td>6</td>\n",
       "      <td>0.822226</td>\n",
       "      <td>1</td>\n",
       "      <td>59.0</td>\n",
       "      <td>98.672542</td>\n",
       "      <td>33.159561</td>\n",
       "      <td>1736.474576</td>\n",
       "      <td>1.465563</td>\n",
       "    </tr>\n",
       "  </tbody>\n",
       "</table>\n",
       "<p>7684 rows × 22 columns</p>\n",
       "</div>"
      ],
      "text/plain": [
       "      strava_id  activity_id  distance  elevation  avg_power   time  \\\n",
       "0       1936233   7206463539    158.97     1085.0      299.0  12722   \n",
       "1      11460770   5606487927    225.41     1986.0        NaN  19278   \n",
       "2       3046537   5298798261    186.72     1649.0      230.0  17481   \n",
       "3       1678917   5569074608    153.26     3514.0        NaN  16526   \n",
       "4       1216273   4010546467    173.43     1974.0        NaN  13609   \n",
       "...         ...          ...       ...        ...        ...    ...   \n",
       "7679    1678917   7157863848    205.35     1849.0        NaN  17733   \n",
       "7680    2885876   7174112124    155.74     1705.0        NaN  12849   \n",
       "7681    8843498   7174271986    154.46     1749.0      317.0  13221   \n",
       "7682    1630132   3992236659    197.35     2584.0        NaN  18918   \n",
       "7683   13125039   9070723149     34.81      161.0        NaN   2717   \n",
       "\n",
       "      tour_year  stage    ride_day race_start_day segments  year  \\\n",
       "0     giro-2022     18  2022-05-26     2022-05-06       []  2022   \n",
       "1      tdf-2021     13  2021-07-09     2021-06-26       []  2021   \n",
       "2     giro-2021      7  2021-05-14     2021-05-08       []  2021   \n",
       "3      tdf-2021      8  2021-07-03     2021-06-26       []  2021   \n",
       "4      tdf-2020      7  2020-09-04     2020-08-29       []  2020   \n",
       "...         ...    ...         ...            ...      ...   ...   \n",
       "7679  giro-2022     10  2022-05-17     2022-05-06       []  2022   \n",
       "7680  giro-2022     13  2022-05-20     2022-05-06       []  2022   \n",
       "7681  giro-2022     13  2022-05-20     2022-05-06       []  2022   \n",
       "7682   tdf-2020      3  2020-08-31     2020-08-29       []  2020   \n",
       "7683  giro-2023      9  2023-05-14     2023-05-08       []  2023   \n",
       "\n",
       "      profile_score  startlist_quality  time_delta  elevation_ratio  \\\n",
       "0              34.0                817          20         0.872208   \n",
       "1              29.0               1646          13         0.898070   \n",
       "2              37.0                885           6         0.898285   \n",
       "3             310.0               1646           7         0.958209   \n",
       "4              47.0               1662           6         0.919238   \n",
       "...             ...                ...         ...              ...   \n",
       "7679           86.0                817          11         0.900041   \n",
       "7680           51.0                817          14         0.916302   \n",
       "7681           51.0                817          14         0.918853   \n",
       "7682           81.0               1662           2         0.929045   \n",
       "7683            0.0                835           6         0.822226   \n",
       "\n",
       "      time_trial  no_sessions  mean_train_dist  mean_train_avg_speed  \\\n",
       "0              0         56.0       106.725179             33.570713   \n",
       "1              0         75.0       108.517867             30.842010   \n",
       "2              0         55.0       111.636909             33.764695   \n",
       "3              0         75.0        97.408800             32.415516   \n",
       "4              0         76.0       101.993026             25.524804   \n",
       "...          ...          ...              ...                   ...   \n",
       "7679           0         23.0       123.840000             34.131966   \n",
       "7680           0         23.0        99.950435             29.038191   \n",
       "7681           0         41.0        96.446098             32.279606   \n",
       "7682           0         65.0       120.618923             30.765480   \n",
       "7683           1         59.0        98.672542             33.159561   \n",
       "\n",
       "      mean_train_elevation  mean_train_EVD  \n",
       "0              1575.714286        1.279520  \n",
       "1              1776.920000        1.595306  \n",
       "2              1616.290909        1.284696  \n",
       "3              1467.346667        1.339883  \n",
       "4              2404.618421        2.448843  \n",
       "...                    ...             ...  \n",
       "7679           1466.260870        1.068895  \n",
       "7680           2103.173913        1.961782  \n",
       "7681           1017.414634        1.002129  \n",
       "7682           2483.846154        2.095948  \n",
       "7683           1736.474576        1.465563  \n",
       "\n",
       "[7684 rows x 22 columns]"
      ]
     },
     "execution_count": 27,
     "metadata": {},
     "output_type": "execute_result"
    }
   ],
   "source": [
    "data_train"
   ]
  },
  {
   "cell_type": "code",
   "execution_count": null,
   "id": "1e96d59a",
   "metadata": {},
   "outputs": [
    {
     "data": {
      "text/plain": [
       "['strava_id',\n",
       " 'activity_id',\n",
       " 'distance',\n",
       " 'elevation',\n",
       " 'avg_power',\n",
       " 'time',\n",
       " 'tour_year',\n",
       " 'stage',\n",
       " 'ride_day',\n",
       " 'race_start_day',\n",
       " 'segments',\n",
       " 'year',\n",
       " 'profile_score',\n",
       " 'startlist_quality',\n",
       " 'time_delta',\n",
       " 'elevation_ratio',\n",
       " 'time_trial',\n",
       " 'no_sessions',\n",
       " 'mean_train_dist',\n",
       " 'mean_train_avg_speed',\n",
       " 'mean_train_elevation',\n",
       " 'mean_train_EVD']"
      ]
     },
     "execution_count": 5,
     "metadata": {},
     "output_type": "execute_result"
    }
   ],
   "source": [
    "list(data_train.columns)\n"
   ]
  },
  {
   "cell_type": "code",
   "execution_count": 6,
   "id": "127d4e4e",
   "metadata": {},
   "outputs": [],
   "source": [
    "features = [\n",
    "            'distance',\n",
    "            'elevation',\n",
    "            #'stage',\n",
    "            #'year',\n",
    "            'profile_score',\n",
    "            'startlist_quality',\n",
    "            'time_delta',\n",
    "            #'elevation_ratio',\n",
    "            'time_trial',\n",
    "            #'no_sessions',\n",
    "            'mean_train_dist',\n",
    "            'mean_train_avg_speed',\n",
    "            'mean_train_elevation',\n",
    "            'mean_train_EVD'\n",
    "            ]\n",
    "target = 'time'"
   ]
  },
  {
   "cell_type": "code",
   "execution_count": null,
   "id": "e9956e56",
   "metadata": {},
   "outputs": [],
   "source": [
    "X = data_train[features]\n",
    "y = data_train[target]"
   ]
  },
  {
   "cell_type": "code",
   "execution_count": null,
   "id": "57d323a0",
   "metadata": {},
   "outputs": [],
   "source": [
    "X_tt, X_val, y_tt, y_val = train_test_split(X, y, \n",
    "                                            train_size=0.8, \n",
    "                                            random_state=42, \n",
    "                                            shuffle=True)"
   ]
  },
  {
   "cell_type": "code",
   "execution_count": 9,
   "id": "37e47696",
   "metadata": {},
   "outputs": [
    {
     "name": "stdout",
     "output_type": "stream",
     "text": [
      "Linear RMSE on the training set: 944.3614258122346\n",
      "Linear RMSE on the validation set: 944.0540024368881\n"
     ]
    }
   ],
   "source": [
    "linear = Pipeline([('scale', StandardScaler()), #For comparing coefficient sizes\n",
    "                    ('linreg', LinearRegression())])\n",
    "\n",
    "linear.fit(X_tt, y_tt)\n",
    "linear_train_preds = linear.predict(X_tt)\n",
    "linear_val_preds = linear.predict(X_val)\n",
    "\n",
    "print('Linear RMSE on the training set:', root_mean_squared_error(y_tt, linear_train_preds))\n",
    "print('Linear RMSE on the validation set:', root_mean_squared_error(y_val, linear_val_preds))"
   ]
  },
  {
   "cell_type": "code",
   "execution_count": 10,
   "id": "d8f19a8c",
   "metadata": {},
   "outputs": [
    {
     "name": "stdout",
     "output_type": "stream",
     "text": [
      "AdaBoost RMSE on the training set: 981.0308144945135\n",
      "AdaBoost RMSE on the validation set: 983.0115400683259\n"
     ]
    }
   ],
   "source": [
    "ada = AdaBoostRegressor()\n",
    "ada.fit(X_tt, y_tt)\n",
    "\n",
    "ada_train_preds = ada.predict(X_tt)\n",
    "ada_val_preds = ada.predict(X_val)\n",
    "\n",
    "print('AdaBoost RMSE on the training set:', root_mean_squared_error(y_tt, ada_train_preds))\n",
    "print('AdaBoost RMSE on the validation set:', root_mean_squared_error(y_val, ada_val_preds))"
   ]
  },
  {
   "cell_type": "code",
   "execution_count": 11,
   "id": "5953515b",
   "metadata": {},
   "outputs": [
    {
     "name": "stdout",
     "output_type": "stream",
     "text": [
      "XGB RMSE on the training set: 212.1173553466797\n",
      "XGB RMSE on the validation set: 479.6808166503906\n"
     ]
    }
   ],
   "source": [
    "xgb = XGBRegressor()\n",
    "xgb.fit(X_tt, y_tt)\n",
    "\n",
    "xgb_train_preds = xgb.predict(X_tt)\n",
    "xgb_val_preds = xgb.predict(X_val)\n",
    "\n",
    "print('XGB RMSE on the training set:', root_mean_squared_error(y_tt, xgb_train_preds))\n",
    "print('XGB RMSE on the validation set:', root_mean_squared_error(y_val, xgb_val_preds))"
   ]
  },
  {
   "cell_type": "code",
   "execution_count": null,
   "id": "d73fedbf",
   "metadata": {},
   "outputs": [
    {
     "data": {
      "image/png": "[encoded data removed]",
      "text/plain": [
       "<Figure size 1000x600 with 1 Axes>"
      ]
     },
     "metadata": {},
     "output_type": "display_data"
    }
   ],
   "source": [
    "import matplotlib.pyplot as plt\n",
    "\n",
    "importances = xgb.feature_importances_\n",
    "\n",
    "# Sort feature importances in descending order\n",
    "indices = np.argsort(importances)[::-1]\n",
    "\n",
    "# Rearrange feature names so they match the sorted feature importances\n",
    "names = [features[i] for i in indices]\n",
    "\n",
    "# Create plot\n",
    "plt.figure(figsize=(10, 6))\n",
    "plt.title(\"Feature Importances\")\n",
    "plt.bar(x=range(X.shape[1]), height=importances[indices])\n",
    "plt.xticks(range(X.shape[1]), names, rotation=90)\n",
    "plt.xlabel(\"Features\")\n",
    "plt.ylabel(\"Importance\")\n",
    "plt.show()\n"
   ]
  },
  {
   "cell_type": "code",
   "execution_count": 23,
   "id": "5f95b31e",
   "metadata": {},
   "outputs": [
    {
     "name": "stdout",
     "output_type": "stream",
     "text": [
      "Forest RMSE on the training set: 187.66075526795782\n",
      "Forest RMSE on the validation set: 511.7728908763917\n"
     ]
    }
   ],
   "source": [
    "forest_reg = RandomForestRegressor(#max_depth=10, \n",
    "                                   #max_leaf_nodes=20,\n",
    "                                   #max_samples=0.25,\n",
    "                                   #n_estimators=250,\n",
    "                                   #min_samples_leaf=5,\n",
    "                                   #min_samples_split=5,\n",
    "                                   )\n",
    "\n",
    "forest_reg.fit(X_tt, y_tt)\n",
    "forest_train_preds = forest_reg.predict(X_tt)\n",
    "forest_val_preds = forest_reg.predict(X_val)\n",
    "\n",
    "print('Forest RMSE on the training set:', root_mean_squared_error(y_tt, forest_train_preds))\n",
    "print('Forest RMSE on the validation set:', root_mean_squared_error(y_val, forest_val_preds))"
   ]
  },
  {
   "cell_type": "code",
   "execution_count": null,
   "id": "ff61be70",
   "metadata": {},
   "outputs": [
    {
     "name": "stdout",
     "output_type": "stream",
     "text": [
      "SVM RMSE on the training set: 1173.9184278991488\n",
      "SVM RMSE on the validation set: 1135.6460972093382\n"
     ]
    }
   ],
   "source": [
    "svm_pipe = Pipeline([('scaler', StandardScaler()),\n",
    "                        ('svr', SVR(kernel='linear'))])\n",
    "\n",
    "svm_pipe.fit(X_tt, y_tt)\n",
    "svm_train_preds = svm_pipe.predict(X_tt)\n",
    "svm_val_preds = svm_pipe.predict(X_val)\n",
    "\n",
    "print('SVM RMSE on the training set:', root_mean_squared_error(y_tt, svm_train_preds))\n",
    "print('SVM RMSE on the validation set:', root_mean_squared_error(y_val, svm_val_preds))\n"
   ]
  },
  {
   "cell_type": "markdown",
   "id": "db72d9e6",
   "metadata": {},
   "source": [
    "### Cross validation for stronger model analysis"
   ]
  },
  {
   "cell_type": "code",
   "execution_count": 14,
   "id": "fe3e42a7",
   "metadata": {},
   "outputs": [
    {
     "data": {
      "text/plain": [
       "{'fit_time': array([0.22175503, 0.13700366, 0.11202312, 0.11464691, 0.13222408]),\n",
       " 'score_time': array([0.00574303, 0.00442219, 0.00423479, 0.003865  , 0.00385475]),\n",
       " 'test_neg_root_mean_squared_error': array([-459.04193115, -469.02801514, -438.91317749, -470.04412842,\n",
       "        -480.81411743]),\n",
       " 'train_neg_root_mean_squared_error': array([-209.41209412, -211.05300903, -209.96852112, -211.36380005,\n",
       "        -204.45288086]),\n",
       " 'test_neg_mean_absolute_percentage_error': array([-0.02782789, -0.02621884, -0.02536226, -0.02514264, -0.02690895]),\n",
       " 'train_neg_mean_absolute_percentage_error': array([-0.01264688, -0.01265057, -0.01294155, -0.01318707, -0.01233924])}"
      ]
     },
     "execution_count": 14,
     "metadata": {},
     "output_type": "execute_result"
    }
   ],
   "source": [
    "cross_validate(xgb, X, y=y, scoring=['neg_root_mean_squared_error', 'neg_mean_absolute_percentage_error'], return_train_score=True)"
   ]
  },
  {
   "cell_type": "code",
   "execution_count": 15,
   "id": "b1fa1790",
   "metadata": {},
   "outputs": [
    {
     "data": {
      "text/plain": [
       "{'fit_time': array([0.0086    , 0.01023507, 0.01241708, 0.00660801, 0.00581813]),\n",
       " 'score_time': array([0.00399375, 0.00609684, 0.00571704, 0.00426197, 0.00269198]),\n",
       " 'test_neg_root_mean_squared_error': array([-960.8920137 , -951.38947376, -926.28939148, -956.47565735,\n",
       "        -971.44149688]),\n",
       " 'train_neg_root_mean_squared_error': array([-949.35376118, -942.53832813, -948.78897158, -941.12392381,\n",
       "        -937.46186954]),\n",
       " 'test_neg_mean_absolute_percentage_error': array([-0.06148165, -0.06281783, -0.05762213, -0.05589661, -0.05939141]),\n",
       " 'train_neg_mean_absolute_percentage_error': array([-0.05941528, -0.05881718, -0.05916094, -0.05960572, -0.05834394])}"
      ]
     },
     "execution_count": 15,
     "metadata": {},
     "output_type": "execute_result"
    }
   ],
   "source": [
    "cross_validate(linear, X, y=y, scoring=['neg_root_mean_squared_error', 'neg_mean_absolute_percentage_error'], return_train_score=True)"
   ]
  },
  {
   "cell_type": "code",
   "execution_count": 16,
   "id": "4f5b8330",
   "metadata": {},
   "outputs": [
    {
     "data": {
      "text/plain": [
       "{'fit_time': array([4.11112714, 4.00422406, 3.84064507, 3.89061666, 4.19322085]),\n",
       " 'score_time': array([0.04705882, 0.04571486, 0.04752684, 0.04452729, 0.05018902]),\n",
       " 'test_neg_root_mean_squared_error': array([-487.61109226, -510.08194231, -485.22845906, -508.42355848,\n",
       "        -519.8605674 ]),\n",
       " 'train_neg_root_mean_squared_error': array([-186.33293945, -187.70174407, -186.47900167, -182.98351818,\n",
       "        -185.98034542]),\n",
       " 'test_neg_mean_absolute_percentage_error': array([-0.02514691, -0.02503923, -0.02385562, -0.02442029, -0.0247793 ]),\n",
       " 'train_neg_mean_absolute_percentage_error': array([-0.00905125, -0.00915672, -0.00923112, -0.00917899, -0.00916146])}"
      ]
     },
     "execution_count": 16,
     "metadata": {},
     "output_type": "execute_result"
    }
   ],
   "source": [
    "cross_validate(forest_reg, X, y=y, scoring=['neg_root_mean_squared_error', 'neg_mean_absolute_percentage_error'], return_train_score=True)"
   ]
  },
  {
   "cell_type": "code",
   "execution_count": 17,
   "id": "6d0dfd1e",
   "metadata": {},
   "outputs": [
    {
     "data": {
      "text/plain": [
       "{'fit_time': array([1.05545235, 1.00749278, 0.99813914, 1.20092201, 1.11647511]),\n",
       " 'score_time': array([0.15358686, 0.14980507, 0.15052128, 0.14797187, 0.15050602]),\n",
       " 'test_neg_root_mean_squared_error': array([-1355.59708165, -1161.30985505, -1166.85161944, -1170.68937625,\n",
       "        -1176.35955049]),\n",
       " 'train_neg_root_mean_squared_error': array([-1173.5578595 , -1174.38154089, -1174.10458104, -1174.86068676,\n",
       "        -1173.67614842]),\n",
       " 'test_neg_mean_absolute_percentage_error': array([-0.10430869, -0.10096077, -0.08225297, -0.07674076, -0.08436372]),\n",
       " 'train_neg_mean_absolute_percentage_error': array([-0.09011885, -0.08696849, -0.0894116 , -0.09012073, -0.08821545])}"
      ]
     },
     "execution_count": 17,
     "metadata": {},
     "output_type": "execute_result"
    }
   ],
   "source": [
    "cross_validate(svm_pipe, X, y=y, scoring=['neg_root_mean_squared_error', 'neg_mean_absolute_percentage_error'], return_train_score=True)"
   ]
  },
  {
   "cell_type": "code",
   "execution_count": null,
   "id": "8454a44c",
   "metadata": {},
   "outputs": [],
   "source": []
  }
 ],
 "metadata": {
  "kernelspec": {
   "display_name": "gt_env",
   "language": "python",
   "name": "python3"
  },
  "language_info": {
   "codemirror_mode": {
    "name": "ipython",
    "version": 3
   },
   "file_extension": ".py",
   "mimetype": "text/x-python",
   "name": "python",
   "nbconvert_exporter": "python",
   "pygments_lexer": "ipython3",
   "version": "3.12.9"
  }
 },
 "nbformat": 4,
 "nbformat_minor": 5
}
