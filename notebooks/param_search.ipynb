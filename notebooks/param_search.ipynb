{
 "cells": [
  {
   "cell_type": "code",
   "execution_count": null,
   "metadata": {},
   "outputs": [],
   "source": [
    "from pathlib import Path\n",
    "import os\n",
    "from rich import print\n",
    "from sklearn.model_selection import train_test_split\n",
    "import json\n",
    "\n",
    "from data.data_loader import config_loader, get_data_info, load_data\n",
    "from data.processing import fetch_riders\n",
    "from training.gridsearch import json_writer, param_search\n",
    "\n",
    "os.chdir(\"..\")  # Move one level up to the project root"
   ]
  },
  {
   "cell_type": "code",
   "execution_count": null,
   "metadata": {},
   "outputs": [],
   "source": [
    "db_path = Path(\"config/db_path.json\")\n",
    "tour = \"tdf\"\n",
    "year = 2023\n",
    "\n",
    "config_path = Path(config_loader(tour, year, \"config/config.json\"))\n",
    "\n",
    "# # Load data\n",
    "data = load_data(tour, year, db_path, training=True).dropna(subset=[\"avg_power\"])\n",
    "\n",
    "print(\n",
    "    f\"The total number of riders in the race dataset is {len(fetch_riders(db_path, tour, year))}.\"\n",
    ")\n",
    "\n",
    "sorted_list = get_data_info(data)"
   ]
  },
  {
   "cell_type": "code",
   "execution_count": null,
   "metadata": {},
   "outputs": [],
   "source": [
    "config_train = Path(config_path)\n",
    "with open(config_train) as f:\n",
    "    config_list = json.loads(f.read())\n",
    "\n",
    "config_list"
   ]
  },
  {
   "cell_type": "code",
   "execution_count": null,
   "metadata": {},
   "outputs": [],
   "source": [
    "for rider in list(sorted_list[\"strava_id\"])[-3:-1]:\n",
    "    rider_data = data.loc[data[\"strava_id\"] == rider]\n",
    "\n",
    "    # Splitting train and test\n",
    "    X_train, X_test = train_test_split(rider_data, test_size=0.2, random_state=42)\n",
    "\n",
    "    params = param_search(X_train=X_train, config_path=config_path)\n",
    "    print(params)"
   ]
  }
 ],
 "metadata": {
  "kernelspec": {
   "display_name": "grand_tours",
   "language": "python",
   "name": "python3"
  },
  "language_info": {
   "codemirror_mode": {
    "name": "ipython",
    "version": 3
   },
   "file_extension": ".py",
   "mimetype": "text/x-python",
   "name": "python",
   "nbconvert_exporter": "python",
   "pygments_lexer": "ipython3",
   "version": "3.12.9"
  }
 },
 "nbformat": 4,
 "nbformat_minor": 2
}
