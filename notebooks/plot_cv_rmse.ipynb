{
 "cells": [
  {
   "cell_type": "code",
   "execution_count": null,
   "id": "0",
   "metadata": {},
   "outputs": [],
   "source": [
    "import pandas as pd\n",
    "import matplotlib.pyplot as plt\n",
    "import seaborn as sns\n",
    "\n",
    "# Load your CSV\n",
    "df = pd.read_csv(\n",
    "    \"/Users/deniz/Projects/grand_tours/results/segment_cv_results_tdf_2024.csv\"\n",
    ")\n",
    "\n",
    "# Sanitize column names if needed (optional, only if something's off)\n",
    "df.columns = [col.strip() for col in df.columns]\n",
    "\n",
    "# 1. Calculate mean cv_rmse and cv_mape by Model\n",
    "summary = df.groupby(\"Model\")[[\"cv_rmse\", \"cv_mape\"]].mean().reset_index()\n",
    "print(\"Average metrics per model:\\n\", summary)\n",
    "\n",
    "# 2. Set seaborn theme\n",
    "plt.style.use(\"bmh\")\n",
    "\n",
    "# --- Boxplot for RMSE ---\n",
    "plt.figure(figsize=(5, 5))\n",
    "sns.boxplot(data=df, x=\"Model\", y=\"cv_rmse\", palette=\"pastel\")\n",
    "plt.title(\"CV RMSE by Model\")\n",
    "plt.xticks(rotation=20)\n",
    "plt.tight_layout()\n",
    "plt.show()\n",
    "\n",
    "# --- Boxplot for MAPE ---\n",
    "plt.figure(figsize=(5, 5))\n",
    "sns.boxplot(data=df, x=\"Model\", y=\"cv_mape\", palette=\"muted\")\n",
    "plt.title(\"CV MAPE by Model\")\n",
    "plt.xticks(rotation=20)\n",
    "plt.tight_layout()\n",
    "plt.show()\n",
    "\n",
    "# --- RMSE vs MAPE scatter plot ---\n",
    "plt.figure(figsize=(8, 6))\n",
    "sns.scatterplot(data=df, x=\"cv_rmse\", y=\"cv_mape\", hue=\"Model\", style=\"Model\", s=100)\n",
    "plt.title(\"RMSE vs MAPE by Model\")\n",
    "plt.xlabel(\"CV RMSE\")\n",
    "plt.ylabel(\"CV MAPE\")\n",
    "plt.tight_layout()\n",
    "plt.show()"
   ]
  }
 ],
 "metadata": {
  "kernelspec": {
   "display_name": "grand_tours",
   "language": "python",
   "name": "python3"
  },
  "language_info": {
   "codemirror_mode": {
    "name": "ipython",
    "version": 3
   },
   "file_extension": ".py",
   "mimetype": "text/x-python",
   "name": "python",
   "nbconvert_exporter": "python",
   "pygments_lexer": "ipython3",
   "version": "3.12.10"
  }
 },
 "nbformat": 4,
 "nbformat_minor": 5
}
