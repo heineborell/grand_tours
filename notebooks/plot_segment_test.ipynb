{
 "cells": [
  {
   "cell_type": "code",
   "execution_count": null,
   "id": "0",
   "metadata": {},
   "outputs": [],
   "source": [
    "import pandas as pd\n",
    "import seaborn as sns\n",
    "import matplotlib.pyplot as plt\n",
    "\n",
    "# Load your dataset\n",
    "df = pd.read_csv(\"your_csv_file.csv\")  # Replace with the correct path\n",
    "\n",
    "# Set seaborn theme\n",
    "sns.set_theme(style=\"whitegrid\")\n",
    "plt.rcParams.update({\"font.size\": 12, \"figure.dpi\": 100})\n",
    "\n",
    "# Shorten model names\n",
    "model_map = {\n",
    "    \"linear_regression\": \"Linear\",\n",
    "    \"random_forest_regressor\": \"Random Forest\",\n",
    "    \"xgboost\": \"XGBoost\",\n",
    "}\n",
    "df[\"Model\"] = df[\"Model\"].map(model_map)\n",
    "\n",
    "# 1. RMSE per rider per model\n",
    "plt.figure(figsize=(12, 6))\n",
    "sns.barplot(data=df, x=\"name\", y=\"test_rmse\", hue=\"Model\")\n",
    "plt.xticks(rotation=45, ha=\"right\")\n",
    "plt.title(\"Test RMSE by Rider and Model\")\n",
    "plt.tight_layout()\n",
    "plt.show()\n",
    "\n",
    "# 2. MAPE per rider per model\n",
    "plt.figure(figsize=(12, 6))\n",
    "sns.barplot(data=df, x=\"name\", y=\"test_mape\", hue=\"Model\")\n",
    "plt.xticks(rotation=45, ha=\"right\")\n",
    "plt.title(\"Test MAPE by Rider and Model\")\n",
    "plt.tight_layout()\n",
    "plt.show()\n",
    "\n",
    "# 3. Boxplot of RMSE grouped by model\n",
    "plt.figure(figsize=(6, 5))\n",
    "sns.boxplot(data=df, x=\"Model\", y=\"test_rmse\")\n",
    "plt.title(\"Distribution of Test RMSE by Model\")\n",
    "plt.tight_layout()\n",
    "plt.show()\n",
    "\n",
    "# 4. Scatter plot of RMSE vs MAPE\n",
    "plt.figure(figsize=(6, 5))\n",
    "sns.scatterplot(data=df, x=\"test_rmse\", y=\"test_mape\", hue=\"Model\", s=80)\n",
    "plt.title(\"RMSE vs MAPE by Model\")\n",
    "plt.tight_layout()\n",
    "plt.show()"
   ]
  }
 ],
 "metadata": {
  "language_info": {
   "name": "python"
  }
 },
 "nbformat": 4,
 "nbformat_minor": 5
}
