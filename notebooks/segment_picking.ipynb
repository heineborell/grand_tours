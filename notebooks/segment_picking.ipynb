{
 "cells": [
  {
   "cell_type": "code",
   "execution_count": null,
   "metadata": {},
   "outputs": [],
   "source": [
    "import ast\n",
    "import getpass\n",
    "import sqlite3\n",
    "import pandas as pd\n",
    "import segment_analyse"
   ]
  },
  {
   "cell_type": "code",
   "execution_count": null,
   "metadata": {},
   "outputs": [],
   "source": [
    "username = getpass.getuser()\n",
    "grand_tour = \"tdf\"\n",
    "# grand_tour = \"giro\"\n",
    "year = 2024\n",
    "\n",
    "conn = sqlite3.connect(\n",
    "    f\"/Users/{username}/iCloud/Research/Data_Science/Projects/data/segment_details.db\"\n",
    ")\n",
    "query_all = (\n",
    "    f\"SELECT * FROM segment_details_data WHERE tour_year = '{grand_tour}-{year}'\"\n",
    ")\n",
    "\n",
    "df = pd.read_sql_query(query_all, conn)\n",
    "activity_ids = set(df[\"stage\"])\n",
    "nonoverlapping_segments = pd.DataFrame()\n",
    "for id in activity_ids:\n",
    "    print(id)\n",
    "    stage_df = df.loc[df[\"stage\"] == id].reset_index(drop=True)\n",
    "    segment_list = [ast.literal_eval(k) for k in stage_df[\"end_points\"]]\n",
    "    longest_seg, max_coverage, greedy = segment_analyse.segment_picker(\n",
    "        segment_list, report=False\n",
    "    )\n",
    "    nonoverlapping_segments = pd.concat(\n",
    "        [nonoverlapping_segments, segment_analyse.name_getter(stage_df, max_coverage)]\n",
    "    )"
   ]
  },
  {
   "cell_type": "code",
   "execution_count": null,
   "metadata": {},
   "outputs": [],
   "source": [
    "nonoverlapping_segments"
   ]
  }
 ],
 "metadata": {
  "kernelspec": {
   "display_name": "grand_tours",
   "language": "python",
   "name": "python3"
  },
  "language_info": {
   "codemirror_mode": {
    "name": "ipython",
    "version": 3
   },
   "file_extension": ".py",
   "mimetype": "text/x-python",
   "name": "python",
   "nbconvert_exporter": "python",
   "pygments_lexer": "ipython3",
   "version": "3.12.9"
  }
 },
 "nbformat": 4,
 "nbformat_minor": 2
}
