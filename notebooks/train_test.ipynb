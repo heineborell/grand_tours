{
 "cells": [
  {
   "cell_type": "code",
   "execution_count": null,
   "metadata": {},
   "outputs": [],
   "source": [
    "from pathlib import Path\n",
    "\n",
    "from rich import print as print\n",
    "\n",
    "from data.data_loader import config_loader, load_data\n",
    "from data.processing import fetch_riders\n",
    "from sklearn.model_selection import KFold, train_test_split\n",
    "import pandas as pd"
   ]
  },
  {
   "cell_type": "code",
   "execution_count": null,
   "metadata": {},
   "outputs": [],
   "source": [
    "# Get the current working directory\n",
    "cwd = Path.cwd()\n",
    "\n",
    "# Navigate up two levels to get the project root\n",
    "PROJECT_ROOT = cwd.parent\n",
    "CONFIG_PATH = PROJECT_ROOT / \"config/base_config.json\"\n",
    "DB_PATH = PROJECT_ROOT / \"config/db_path.json\"\n",
    "print(CONFIG_PATH)"
   ]
  },
  {
   "cell_type": "code",
   "execution_count": null,
   "metadata": {},
   "outputs": [],
   "source": [
    "# Enter tour, year of your choice\n",
    "tour = \"tdf\"\n",
    "years = [2021]\n",
    "data_list = []\n",
    "\n",
    "for year in years:\n",
    "    # Load data\n",
    "    data = load_data(tour, year, db_path=DB_PATH, training=True, segment_data=False)\n",
    "    print(\n",
    "        f\"The total number of riders in the race dataset is {len(fetch_riders(DB_PATH, tour, year))}.\"\n",
    "    )\n",
    "    data_list.append(data)\n",
    "\n",
    "data = pd.concat(data_list)\n",
    "# data = data.head(1000)\n",
    "\n",
    "\n",
    "# Splitting train and test\n",
    "X_train, X_test = train_test_split(data, test_size=0.2, random_state=42)"
   ]
  },
  {
   "cell_type": "code",
   "execution_count": null,
   "metadata": {},
   "outputs": [],
   "source": [
    "from sklearn.linear_model import LinearRegression"
   ]
  },
  {
   "cell_type": "code",
   "execution_count": null,
   "metadata": {},
   "outputs": [],
   "source": [
    "model = LinearRegression()\n",
    "model.fit(X_train[[\"distance\", \"elevation\"]], X_train[\"time\"])"
   ]
  },
  {
   "cell_type": "code",
   "execution_count": null,
   "metadata": {},
   "outputs": [],
   "source": [
    "model.predict(X_test[[\"distance\", \"elevation\"]])"
   ]
  }
 ],
 "metadata": {
  "kernelspec": {
   "display_name": "grand_tours",
   "language": "python",
   "name": "python3"
  },
  "language_info": {
   "codemirror_mode": {
    "name": "ipython",
    "version": 3
   },
   "file_extension": ".py",
   "mimetype": "text/x-python",
   "name": "python",
   "nbconvert_exporter": "python",
   "pygments_lexer": "ipython3",
   "version": "3.13.3"
  }
 },
 "nbformat": 4,
 "nbformat_minor": 2
}
